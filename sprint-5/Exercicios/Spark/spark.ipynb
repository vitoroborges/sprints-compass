{
 "cells": [
  {
   "cell_type": "markdown",
   "id": "3b250bbb-43d6-46a8-aba2-175439ef2d25",
   "metadata": {},
   "source": [
    "## Importa o pyspark"
   ]
  },
  {
   "cell_type": "code",
   "execution_count": 1,
   "id": "cf8cf8a1-764d-4bff-8134-4ef4baac45ba",
   "metadata": {},
   "outputs": [],
   "source": [
    "from pyspark.sql import SparkSession"
   ]
  },
  {
   "cell_type": "markdown",
   "id": "b18d7089-5422-4ade-baec-4a479571a368",
   "metadata": {},
   "source": [
    "## Cria uma instância do spark"
   ]
  },
  {
   "cell_type": "code",
   "execution_count": 2,
   "id": "cc8b1204-6857-49b3-b12e-98aaa447c039",
   "metadata": {},
   "outputs": [],
   "source": [
    "spark = SparkSession.builder.appName(\"Contador de Palavras no README\").getOrCreate()\n",
    "sc = spark.sparkContext"
   ]
  },
  {
   "cell_type": "markdown",
   "id": "da1edc88-4c0c-49b8-9db5-4a4e8856634e",
   "metadata": {},
   "source": [
    "## Abre o arquivo baixado via wget"
   ]
  },
  {
   "cell_type": "code",
   "execution_count": 3,
   "id": "e5b8c69e-c661-40e2-921f-c3c348204407",
   "metadata": {},
   "outputs": [],
   "source": [
    "with open(\"/home/jovyan/README.md\", \"r\") as f:\n",
    "    conteudo_readme = f.read()"
   ]
  },
  {
   "cell_type": "markdown",
   "id": "2bdc851c-5d0d-4277-9404-6d224ac9f9e9",
   "metadata": {},
   "source": [
    "## Usa o parallelize para criar o dataset"
   ]
  },
  {
   "cell_type": "code",
   "execution_count": 4,
   "id": "b7dfc4dc-70ff-4137-be28-59e3e4cc57ea",
   "metadata": {},
   "outputs": [],
   "source": [
    "rdd = sc.parallelize([conteudo_readme])"
   ]
  },
  {
   "cell_type": "markdown",
   "id": "51527db9-d47e-4ab8-abef-e2a512fdefd7",
   "metadata": {},
   "source": [
    "## Usa o flatmap para separa a string em palavras individuais"
   ]
  },
  {
   "cell_type": "code",
   "execution_count": 5,
   "id": "b30e676e-7aca-4a76-bbd5-ddc23303983e",
   "metadata": {},
   "outputs": [],
   "source": [
    "palavras = rdd.flatMap(lambda linha: linha.split())"
   ]
  },
  {
   "cell_type": "markdown",
   "id": "866d61e9-7c05-45a5-8975-9c44632c4f79",
   "metadata": {},
   "source": [
    "## Conta e mostra a quantidade de palavras"
   ]
  },
  {
   "cell_type": "code",
   "execution_count": 6,
   "id": "1bde8a3b-5444-49b6-9e1b-7e8e3123eaf1",
   "metadata": {},
   "outputs": [
    {
     "name": "stdout",
     "output_type": "stream",
     "text": [
      "\n",
      "Total de palavras no README: 198\n"
     ]
    }
   ],
   "source": [
    "total_palavras = palavras.count()\n",
    "print(f\"\\nTotal de palavras no README: {total_palavras}\")"
   ]
  }
 ],
 "metadata": {
  "kernelspec": {
   "display_name": "Python 3 (ipykernel)",
   "language": "python",
   "name": "python3"
  },
  "language_info": {
   "codemirror_mode": {
    "name": "ipython",
    "version": 3
   },
   "file_extension": ".py",
   "mimetype": "text/x-python",
   "name": "python",
   "nbconvert_exporter": "python",
   "pygments_lexer": "ipython3",
   "version": "3.11.6"
  }
 },
 "nbformat": 4,
 "nbformat_minor": 5
}

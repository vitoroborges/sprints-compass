{
 "cells": [
  {
   "cell_type": "markdown",
   "id": "d7f91c82-f477-47be-8609-446e5a019dd6",
   "metadata": {},
   "source": [
    "## Importando os modulos e gerando a lista de números"
   ]
  },
  {
   "cell_type": "code",
   "execution_count": 4,
   "id": "72bfaf5e-b095-4dab-a385-08ae89a07dd5",
   "metadata": {},
   "outputs": [
    {
     "name": "stdout",
     "output_type": "stream",
     "text": [
      "[97, 775, 687, 820, 566, 531, 173, 804, 822, 63, 977, 498, 384, 161, 609, 968, 251, 725, 291, 209, 81, 813, 171, 254, 420, 771, 857, 907, 514, 612, 247, 75, 547, 152, 912, 359, 708, 77, 932, 712, 5, 948, 63, 0, 174, 156, 531, 954, 379, 419, 132, 764, 654, 317, 817, 775, 431, 14, 787, 843, 424, 72, 543, 110, 185, 566, 277, 169, 580, 665, 454, 614, 562, 247, 718, 699, 598, 274, 423, 379, 904, 961, 176, 611, 914, 606, 945, 71, 164, 668, 413, 370, 185, 30, 9, 162, 520, 596, 288, 538, 633, 188, 987, 203, 533, 985, 428, 800, 641, 811, 715, 894, 331, 793, 377, 935, 206, 205, 369, 990, 58, 317, 54, 123, 785, 304, 919, 615, 952, 906, 432, 141, 890, 617, 35, 468, 886, 903, 892, 277, 796, 166, 286, 545, 470, 746, 781, 190, 808, 55, 406, 816, 879, 340, 221, 372, 676, 708, 212, 720, 464, 763, 909, 99, 947, 456, 983, 66, 457, 842, 292, 884, 951, 902, 859, 670, 870, 973, 88, 794, 46, 178, 833, 238, 212, 887, 825, 943, 504, 696, 518, 581, 444, 685, 736, 825, 443, 6, 337, 577, 0, 210, 25, 995, 454, 110, 874, 455, 726, 141, 573, 909, 337, 396, 889, 805, 99, 545, 77, 800, 458, 607, 738, 733, 249, 686, 932, 735, 282, 7, 814, 828, 547, 968, 733, 788, 690, 101, 668, 910, 793, 864, 279, 817, 449, 375, 19, 904, 568, 648]\n"
     ]
    }
   ],
   "source": [
    "import random\n",
    "import names\n",
    "numeros = [random.randint(0, 1000) for _ in range(250)]\n",
    "numeros.reverse()\n",
    "print(numeros)"
   ]
  },
  {
   "cell_type": "markdown",
   "id": "7ee7bbb3-0735-4c13-9781-0187d7272fa8",
   "metadata": {},
   "source": [
    "## Gerando a lista de animais"
   ]
  },
  {
   "cell_type": "code",
   "execution_count": 3,
   "id": "f600cc5f-3069-4bb7-bc10-e5d08cd928d0",
   "metadata": {},
   "outputs": [
    {
     "name": "stdout",
     "output_type": "stream",
     "text": [
      "cachorro\n",
      "canguru\n",
      "cavalo\n",
      "cervo\n",
      "coelho\n",
      "elefante\n",
      "falcão\n",
      "gato\n",
      "girafa\n",
      "golfinho\n",
      "jacaré\n",
      "leão\n",
      "lobo\n",
      "panda\n",
      "raposa\n",
      "tartaruga\n",
      "tigre\n",
      "urso\n",
      "zebra\n",
      "águia\n"
     ]
    }
   ],
   "source": [
    "animais = [\"cachorro\", \"gato\", \"elefante\", \"tigre\", \"leão\", \"girafa\", \"zebra\", \"cavalo\", \"urso\", \"lobo\",\n",
    "           \"raposa\", \"coelho\", \"jacaré\", \"cervo\", \"panda\", \"canguru\", \"golfinho\", \"tartaruga\", \"falcão\", \"águia\"]\n",
    "animais.sort()\n",
    "[print(animal) for animal in animais]\n",
    "with open(\"animais.txt\", \"w\") as arquivo:\n",
    "    arquivo.write(\"\\n\".join(animais))"
   ]
  },
  {
   "cell_type": "markdown",
   "id": "2a99918c-3cfa-4a3a-b334-a4a8f5b5ebca",
   "metadata": {},
   "source": [
    "## Gerando a lista de nomes"
   ]
  },
  {
   "cell_type": "code",
   "execution_count": 14,
   "id": "11717538-26cb-42fa-a192-c5fb70c51974",
   "metadata": {},
   "outputs": [
    {
     "name": "stdout",
     "output_type": "stream",
     "text": [
      "Gerando 10000000 nomes aleatórios\n"
     ]
    }
   ],
   "source": [
    "random.seed(40)\n",
    "\n",
    "qtd_nomes_unicos = 39080\n",
    "qtd_nomes_aleatorios = 10000000\n",
    "\n",
    "aux = []\n",
    "for i in range(0, qtd_nomes_unicos):\n",
    "    aux.append(names.get_full_name())\n",
    "    \n",
    "print(f'Gerando {qtd_nomes_aleatorios} nomes aleatórios')\n",
    "dados= []\n",
    "\n",
    "for i in range(0, qtd_nomes_aleatorios):\n",
    "    dados.append(random.choice(aux))\n",
    "\n",
    "with open(\"nomes_aleatorios.txt\", \"w\") as arquivo:\n",
    "    arquivo.write(\"\\n\".join(nomes_aleatorios))"
   ]
  }
 ],
 "metadata": {
  "kernelspec": {
   "display_name": "Python 3 (ipykernel)",
   "language": "python",
   "name": "python3"
  },
  "language_info": {
   "codemirror_mode": {
    "name": "ipython",
    "version": 3
   },
   "file_extension": ".py",
   "mimetype": "text/x-python",
   "name": "python",
   "nbconvert_exporter": "python",
   "pygments_lexer": "ipython3",
   "version": "3.11.6"
  }
 },
 "nbformat": 4,
 "nbformat_minor": 5
}

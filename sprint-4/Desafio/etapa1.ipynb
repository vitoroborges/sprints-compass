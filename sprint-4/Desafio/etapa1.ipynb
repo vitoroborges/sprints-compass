{
 "cells": [
  {
   "cell_type": "markdown",
   "metadata": {},
   "source": [
    "## Instalando dependências"
   ]
  },
  {
   "cell_type": "code",
   "execution_count": 2,
   "metadata": {},
   "outputs": [
    {
     "name": "stdout",
     "output_type": "stream",
     "text": [
      "Requirement already satisfied: boto3 in c:\\users\\vitor\\anaconda3\\lib\\site-packages (1.37.33)\n",
      "Requirement already satisfied: botocore<1.38.0,>=1.37.33 in c:\\users\\vitor\\anaconda3\\lib\\site-packages (from boto3) (1.37.33)\n",
      "Requirement already satisfied: jmespath<2.0.0,>=0.7.1 in c:\\users\\vitor\\anaconda3\\lib\\site-packages (from boto3) (1.0.1)\n",
      "Requirement already satisfied: s3transfer<0.12.0,>=0.11.0 in c:\\users\\vitor\\anaconda3\\lib\\site-packages (from boto3) (0.11.4)\n",
      "Requirement already satisfied: python-dateutil<3.0.0,>=2.1 in c:\\users\\vitor\\anaconda3\\lib\\site-packages (from botocore<1.38.0,>=1.37.33->boto3) (2.9.0.post0)\n",
      "Requirement already satisfied: urllib3!=2.2.0,<3,>=1.25.4 in c:\\users\\vitor\\anaconda3\\lib\\site-packages (from botocore<1.38.0,>=1.37.33->boto3) (2.2.3)\n",
      "Requirement already satisfied: six>=1.5 in c:\\users\\vitor\\anaconda3\\lib\\site-packages (from python-dateutil<3.0.0,>=2.1->botocore<1.38.0,>=1.37.33->boto3) (1.16.0)\n",
      "Note: you may need to restart the kernel to use updated packages.\n",
      "Requirement already satisfied: python-dotenv in c:\\users\\vitor\\anaconda3\\lib\\site-packages (0.21.0)\n",
      "Note: you may need to restart the kernel to use updated packages.\n"
     ]
    }
   ],
   "source": [
    "%pip install boto3\n",
    "%pip install python-dotenv"
   ]
  },
  {
   "cell_type": "markdown",
   "metadata": {},
   "source": [
    "## Importando os modulos"
   ]
  },
  {
   "cell_type": "code",
   "execution_count": 6,
   "metadata": {},
   "outputs": [],
   "source": [
    "import boto3\n",
    "import os\n",
    "from dotenv import load_dotenv"
   ]
  },
  {
   "cell_type": "markdown",
   "metadata": {},
   "source": [
    "## Subindo o arquivo para o bucket"
   ]
  },
  {
   "cell_type": "code",
   "execution_count": 7,
   "metadata": {},
   "outputs": [
    {
     "name": "stdout",
     "output_type": "stream",
     "text": [
      "Subiu o arquivo!\n"
     ]
    }
   ],
   "source": [
    "load_dotenv()\n",
    "\n",
    "bucket = os.getenv('AWS_BUCKET_NAME')\n",
    "\n",
    "ARQUIVO_CSV = 'assets/coproducoes-internacionais-participacao-brasileira.csv'\n",
    "DESTINO_S3 = 'dados/coproducoes-internacionais-participacao-brasileira.csv'\n",
    "\n",
    "s3 = boto3.client('s3')\n",
    "\n",
    "try:\n",
    "    s3.upload_file(ARQUIVO_CSV, bucket, DESTINO_S3)\n",
    "    print(\"Subiu o arquivo!\")\n",
    "except Exception as e:\n",
    "    print(f\"Erro ao subir o arquivo: {e}\")"
   ]
  }
 ],
 "metadata": {
  "kernelspec": {
   "display_name": "base",
   "language": "python",
   "name": "python3"
  },
  "language_info": {
   "codemirror_mode": {
    "name": "ipython",
    "version": 3
   },
   "file_extension": ".py",
   "mimetype": "text/x-python",
   "name": "python",
   "nbconvert_exporter": "python",
   "pygments_lexer": "ipython3",
   "version": "3.12.7"
  }
 },
 "nbformat": 4,
 "nbformat_minor": 2
}

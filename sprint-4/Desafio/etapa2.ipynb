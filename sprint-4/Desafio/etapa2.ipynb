{
 "cells": [
  {
   "cell_type": "markdown",
   "metadata": {},
   "source": [
    "## Instalando as dependências"
   ]
  },
  {
   "cell_type": "code",
   "execution_count": 10,
   "metadata": {},
   "outputs": [
    {
     "name": "stdout",
     "output_type": "stream",
     "text": [
      "Requirement already satisfied: pandas in c:\\users\\vitor\\anaconda3\\lib\\site-packages (2.2.3)\n",
      "Requirement already satisfied: numpy>=1.26.0 in c:\\users\\vitor\\anaconda3\\lib\\site-packages (from pandas) (1.26.4)\n",
      "Requirement already satisfied: python-dateutil>=2.8.2 in c:\\users\\vitor\\anaconda3\\lib\\site-packages (from pandas) (2.9.0.post0)\n",
      "Requirement already satisfied: pytz>=2020.1 in c:\\users\\vitor\\anaconda3\\lib\\site-packages (from pandas) (2024.1)\n",
      "Requirement already satisfied: tzdata>=2022.7 in c:\\users\\vitor\\anaconda3\\lib\\site-packages (from pandas) (2023.3)\n",
      "Requirement already satisfied: six>=1.5 in c:\\users\\vitor\\anaconda3\\lib\\site-packages (from python-dateutil>=2.8.2->pandas) (1.16.0)\n",
      "Note: you may need to restart the kernel to use updated packages.\n",
      "Requirement already satisfied: boto3 in c:\\users\\vitor\\anaconda3\\lib\\site-packages (1.37.33)\n",
      "Requirement already satisfied: botocore<1.38.0,>=1.37.33 in c:\\users\\vitor\\anaconda3\\lib\\site-packages (from boto3) (1.37.33)\n",
      "Requirement already satisfied: jmespath<2.0.0,>=0.7.1 in c:\\users\\vitor\\anaconda3\\lib\\site-packages (from boto3) (1.0.1)\n",
      "Requirement already satisfied: s3transfer<0.12.0,>=0.11.0 in c:\\users\\vitor\\anaconda3\\lib\\site-packages (from boto3) (0.11.4)\n",
      "Requirement already satisfied: python-dateutil<3.0.0,>=2.1 in c:\\users\\vitor\\anaconda3\\lib\\site-packages (from botocore<1.38.0,>=1.37.33->boto3) (2.9.0.post0)\n",
      "Requirement already satisfied: urllib3!=2.2.0,<3,>=1.25.4 in c:\\users\\vitor\\anaconda3\\lib\\site-packages (from botocore<1.38.0,>=1.37.33->boto3) (2.2.3)\n",
      "Requirement already satisfied: six>=1.5 in c:\\users\\vitor\\anaconda3\\lib\\site-packages (from python-dateutil<3.0.0,>=2.1->botocore<1.38.0,>=1.37.33->boto3) (1.16.0)\n",
      "Note: you may need to restart the kernel to use updated packages.\n",
      "Requirement already satisfied: python-dotenv in c:\\users\\vitor\\anaconda3\\lib\\site-packages (0.21.0)\n",
      "Note: you may need to restart the kernel to use updated packages.\n",
      "Requirement already satisfied: botocore in c:\\users\\vitor\\anaconda3\\lib\\site-packages (1.37.33)\n",
      "Requirement already satisfied: jmespath<2.0.0,>=0.7.1 in c:\\users\\vitor\\anaconda3\\lib\\site-packages (from botocore) (1.0.1)\n",
      "Requirement already satisfied: python-dateutil<3.0.0,>=2.1 in c:\\users\\vitor\\anaconda3\\lib\\site-packages (from botocore) (2.9.0.post0)\n",
      "Requirement already satisfied: urllib3!=2.2.0,<3,>=1.25.4 in c:\\users\\vitor\\anaconda3\\lib\\site-packages (from botocore) (2.2.3)\n",
      "Requirement already satisfied: six>=1.5 in c:\\users\\vitor\\anaconda3\\lib\\site-packages (from python-dateutil<3.0.0,>=2.1->botocore) (1.16.0)\n",
      "Note: you may need to restart the kernel to use updated packages.\n"
     ]
    }
   ],
   "source": [
    "%pip install pandas\n",
    "%pip install boto3\n",
    "%pip install python-dotenv\n",
    "%pip install botocore"
   ]
  },
  {
   "cell_type": "markdown",
   "metadata": {},
   "source": [
    "## Importando os modulos"
   ]
  },
  {
   "cell_type": "code",
   "execution_count": 1,
   "metadata": {},
   "outputs": [],
   "source": [
    "import pandas as pd\n",
    "import boto3\n",
    "import os\n",
    "from datetime import datetime\n",
    "from dotenv import load_dotenv\n",
    "from io import StringIO"
   ]
  },
  {
   "cell_type": "markdown",
   "metadata": {},
   "source": [
    "## Instanciando o modulo"
   ]
  },
  {
   "cell_type": "code",
   "execution_count": 2,
   "metadata": {},
   "outputs": [],
   "source": [
    "load_dotenv()\n",
    "\n",
    "bucket = os.getenv('AWS_BUCKET_NAME')\n",
    "\n",
    "DESTINO_S3 = 'dados/coproducoes-internacionais-participacao-brasileira.csv'\n",
    "\n",
    "s3 = boto3.client('s3')"
   ]
  },
  {
   "cell_type": "markdown",
   "metadata": {},
   "source": [
    "## Fazendo o download do arquivo no bucket e usando como dataframe"
   ]
  },
  {
   "cell_type": "code",
   "execution_count": 26,
   "metadata": {},
   "outputs": [
    {
     "name": "stdout",
     "output_type": "stream",
     "text": [
      "Arquivo carregado com sucesso!\n"
     ]
    }
   ],
   "source": [
    "try:\n",
    "    response = s3.get_object(Bucket=bucket, Key=DESTINO_S3)\n",
    "    file_content = response['Body'].read().decode('utf-8')\n",
    "    df = pd.read_csv(StringIO(file_content), sep=';')\n",
    "    print(\"Arquivo carregado com sucesso!\")\n",
    "except Exception as e:\n",
    "    print(f\"Erro ao baixar o arquivo: {e}\")\n",
    "\n"
   ]
  },
  {
   "cell_type": "markdown",
   "metadata": {},
   "source": [
    "## Limpando os dados"
   ]
  },
  {
   "cell_type": "code",
   "execution_count": 27,
   "metadata": {},
   "outputs": [],
   "source": [
    "df = df.dropna()\n",
    "\n",
    "df = df.drop_duplicates()\n",
    "\n",
    "df.columns = df.columns.str.strip().str.lower().str.replace(' ', '_')\n",
    "\n",
    "for col in df.columns:\n",
    "    df.loc[:1, col] = df.loc[:1, col].str.replace('\"', '', regex=False)\n",
    "\n",
    "for col in df.select_dtypes(include=['object']).columns:\n",
    "    df[col] = df[col].str.strip()\n",
    "\n",
    "df = df.rename(columns={'titulo_original': 'titulo', 'data_emissao_cpb': 'data', 'acordo_producao': 'acordo producao'})\n",
    "\n",
    "df.to_csv('assets/coproducoes-internacionais-participacao-brasileira-limpo.csv', index=False)"
   ]
  },
  {
   "cell_type": "markdown",
   "metadata": {},
   "source": [
    "## Produções majoritárias emitidas após 2015"
   ]
  },
  {
   "cell_type": "code",
   "execution_count": 15,
   "metadata": {},
   "outputs": [
    {
     "name": "stdout",
     "output_type": "stream",
     "text": [
      "                     titulo        data part_patrimonial_brasileira\n",
      "5                   5 CASAS  02/07/2020                 MAJORITÁRIA\n",
      "11  A CIDADE ONDE ENVELHEÇO  15/03/2016                 MAJORITÁRIA\n",
      "13                A ESTAÇÃO  27/06/2023                 MAJORITÁRIA\n",
      "16                  A FEBRE  30/09/2019                 MAJORITÁRIA\n",
      "23   A MULHER DO MEU MARIDO  28/02/2018                 MAJORITÁRIA\n"
     ]
    }
   ],
   "source": [
    "consulta_filtro = df[(df['part_patrimonial_brasileira'] == 'MAJORITÁRIA') & (pd.to_datetime(df['data'], format='%d/%m/%Y') > datetime(2015, 1, 1))]\n",
    "print(consulta_filtro[['titulo', 'data', 'part_patrimonial_brasileira']].head())\n",
    "consulta_filtro.to_csv('assets/consulta_filtro', index=False)"
   ]
  },
  {
   "cell_type": "markdown",
   "metadata": {},
   "source": [
    "## Contar o número de produções por tipo de acordo de coprodução"
   ]
  },
  {
   "cell_type": "code",
   "execution_count": 29,
   "metadata": {},
   "outputs": [
    {
     "name": "stdout",
     "output_type": "stream",
     "text": [
      "                                   acordo_coproducao  quantidade\n",
      "8  ACORDO LATINO-AMERICANO DE COPRODUÇÃO CINEMATO...         138\n",
      "7  ACORDO DE COPRODUÇÃO CINEMATOGRÁFICA ENTRE OS ...          70\n",
      "5  ACORDO DE COPRODUÇÃO CINEMATOGRÁFICA ENTRE O G...          33\n",
      "4  ACORDO DE COPRODUÇÃO CINEMATOGRÁFICA ENTRE O G...          18\n",
      "2  ACORDO DE COPRODUÇÃO CINEMATOGRÁFICA BRASIL-AL...          17\n",
      "9  AJUSTE COMPLEMENTAR ENTRE O GOVERNO DA REPÚBLI...          17\n",
      "1  ACORDO DE COPRODUÇÃO AUDIOVISUAL ENTRE O GOVER...          15\n",
      "6  ACORDO DE COPRODUÇÃO CINEMATOGRÁFICA ENTRE O G...          11\n",
      "0  ACORDO DE COPRODUÇÃO AUDIOVISUAL ENTRE O GOVER...           1\n",
      "3  ACORDO DE COPRODUÇÃO CINEMATOGRÁFICA ENTRE O B...           1\n"
     ]
    }
   ],
   "source": [
    "consulta_agregacao = df.groupby('acordo_coproducao').size().reset_index(name='quantidade')\n",
    "consulta_agregacao = consulta_agregacao.sort_values(by='quantidade', ascending=False).head(10)\n",
    "print(consulta_agregacao)\n",
    "consulta_agregacao.to_csv('assets/consulta_agregacao', index=False)"
   ]
  },
  {
   "cell_type": "markdown",
   "metadata": {},
   "source": [
    "## Criar uma nova coluna categorizando os filmes como \"Recente\" ou \"Antigo\" com base no ano"
   ]
  },
  {
   "cell_type": "code",
   "execution_count": 18,
   "metadata": {},
   "outputs": [
    {
     "name": "stdout",
     "output_type": "stream",
     "text": [
      "                     titulo        data categoria\n",
      "0          A PRIMEIRA MISSA  31/07/2013    Antigo\n",
      "1       EL HOMBRE QUE CUIDA  14/03/2018   Recente\n",
      "2        1968 - O DESPERTAR  01/02/2019   Recente\n",
      "4                31 MINUTOS  12/03/2012    Antigo\n",
      "5                   5 CASAS  02/07/2020   Recente\n",
      "7          A ALMA QUER VOAR  18/05/2021   Recente\n",
      "8               A BARQUEIRA  28/12/2020   Recente\n",
      "9            A BELA AMÉRICA  17/10/2023   Recente\n",
      "10             A CASA VERDE  16/04/2009    Antigo\n",
      "11  A CIDADE ONDE ENVELHEÇO  15/03/2016   Recente\n"
     ]
    }
   ],
   "source": [
    "df['categoria'] = pd.to_datetime(df['data'], format='%d/%m/%Y').apply(lambda x: 'Recente' if x.year > 2015 else 'Antigo')\n",
    "consulta_condicional = df[['titulo', 'data', 'categoria']].head(10)\n",
    "print(consulta_condicional)\n",
    "consulta_condicional.to_csv('assets/consulta_condicional', index=False)"
   ]
  },
  {
   "cell_type": "markdown",
   "metadata": {},
   "source": [
    "## Converter a coluna 'data' para o formato datetime e criar uma nova coluna com o ano"
   ]
  },
  {
   "cell_type": "code",
   "execution_count": 19,
   "metadata": {},
   "outputs": [
    {
     "name": "stdout",
     "output_type": "stream",
     "text": [
      "                     titulo       data   ano\n",
      "0          A PRIMEIRA MISSA 2013-07-31  2013\n",
      "1       EL HOMBRE QUE CUIDA 2018-03-14  2018\n",
      "2        1968 - O DESPERTAR 2019-02-01  2019\n",
      "4                31 MINUTOS 2012-03-12  2012\n",
      "5                   5 CASAS 2020-07-02  2020\n",
      "7          A ALMA QUER VOAR 2021-05-18  2021\n",
      "8               A BARQUEIRA 2020-12-28  2020\n",
      "9            A BELA AMÉRICA 2023-10-17  2023\n",
      "10             A CASA VERDE 2009-04-16  2009\n",
      "11  A CIDADE ONDE ENVELHEÇO 2016-03-15  2016\n"
     ]
    }
   ],
   "source": [
    "df['data'] = pd.to_datetime(df['data'], format='%d/%m/%Y')\n",
    "df['ano'] = df['data'].dt.year\n",
    "operacao_convercao = df[['titulo', 'data', 'ano']].head(10)\n",
    "print(operacao_convercao)\n",
    "operacao_convercao.to_csv('assets/operacao_convercao', index=False)"
   ]
  },
  {
   "cell_type": "markdown",
   "metadata": {},
   "source": [
    "## Adicionar uma coluna com o mês de emissão em formato textual"
   ]
  },
  {
   "cell_type": "code",
   "execution_count": 20,
   "metadata": {},
   "outputs": [],
   "source": [
    "df['mes_emissao'] = df['data'].dt.strftime('%B')"
   ]
  },
  {
   "cell_type": "markdown",
   "metadata": {},
   "source": [
    "## Criar uma nova coluna com o título em letras maiúsculas e sem espaços extras"
   ]
  },
  {
   "cell_type": "code",
   "execution_count": null,
   "metadata": {},
   "outputs": [],
   "source": [
    "df['titulo_formatado'] = df['titulo'].str.lower().str.strip()\n",
    "operacao_string = df[['titulo', 'titulo_formatado']].head(10)\n",
    "print(operacao_string)\n",
    "operacao_string.to_csv('assets/operacao_string', index=False)"
   ]
  },
  {
   "cell_type": "markdown",
   "metadata": {},
   "source": [
    "## Fazendo upload dos arquivos no bucket"
   ]
  },
  {
   "cell_type": "code",
   "execution_count": 22,
   "metadata": {},
   "outputs": [
    {
     "name": "stdout",
     "output_type": "stream",
     "text": [
      "Arquivo assets/coproducoes-internacionais-participacao-brasileira-limpo.csv enviado para dados/coproducoes-internacionais-participacao-brasileira-limpo.csv com sucesso!\n",
      "Arquivo assets/consulta_filtro enviado para dados/consulta_filtro.csv com sucesso!\n",
      "Arquivo assets/consulta_agregacao enviado para dados/consulta_agregacao.csv com sucesso!\n",
      "Arquivo assets/consulta_condicional enviado para dados/consulta_condicional.csv com sucesso!\n",
      "Arquivo assets/operacao_convercao enviado para dados/operacao_convercao.csv com sucesso!\n"
     ]
    }
   ],
   "source": [
    "def upload_to_s3(file_name, bucket, s3_key):\n",
    "    try:\n",
    "        s3.upload_file(file_name, bucket, s3_key)\n",
    "        print(f\"Arquivo {file_name} enviado para {s3_key} com sucesso!\")\n",
    "    except Exception as e:\n",
    "        print(f\"Erro ao enviar {file_name} para o bucket: {e}\")\n",
    "\n",
    "upload_to_s3('assets/coproducoes-internacionais-participacao-brasileira-limpo.csv', bucket, 'dados/coproducoes-internacionais-participacao-brasileira-limpo.csv')\n",
    "upload_to_s3('assets/consulta_filtro', bucket, 'dados/consulta_filtro.csv')\n",
    "upload_to_s3('assets/consulta_agregacao', bucket, 'dados/consulta_agregacao.csv')\n",
    "upload_to_s3('assets/consulta_condicional', bucket, 'dados/consulta_condicional.csv')\n",
    "upload_to_s3('assets/operacao_convercao', bucket, 'dados/operacao_convercao.csv')"
   ]
  }
 ],
 "metadata": {
  "kernelspec": {
   "display_name": "base",
   "language": "python",
   "name": "python3"
  },
  "language_info": {
   "codemirror_mode": {
    "name": "ipython",
    "version": 3
   },
   "file_extension": ".py",
   "mimetype": "text/x-python",
   "name": "python",
   "nbconvert_exporter": "python",
   "pygments_lexer": "ipython3",
   "version": "3.12.7"
  }
 },
 "nbformat": 4,
 "nbformat_minor": 2
}
